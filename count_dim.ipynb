{
 "cells": [
  {
   "cell_type": "markdown",
   "metadata": {},
   "source": [
    "# В этом файле считаем косинусное расстояние между клиентами"
   ]
  },
  {
   "cell_type": "markdown",
   "metadata": {},
   "source": [
    "Взяли клиентов, у которых больше 6-ти прочитанных книг. Посчитали и записали в файл `cosine_dim.txt`"
   ]
  },
  {
   "cell_type": "code",
   "execution_count": 1,
   "metadata": {},
   "outputs": [],
   "source": [
    "import pandas as pd\n",
    "import math\n",
    "import numpy as np\n",
    "import scipy.spatial.distance as ds\n",
    "from scipy.sparse import csr_matrix, save_npz, load_npz\n",
    "from tqdm import tqdm\n",
    "import json\n",
    "import pickle\n",
    "import time"
   ]
  },
  {
   "cell_type": "code",
   "execution_count": 2,
   "metadata": {},
   "outputs": [],
   "source": [
    "book_id = pd.read_csv('datasets/books/book_id_map.csv')\n",
    "book_title = pd.read_csv('datasets/books/book_titles.csv')\n",
    "call_meta = pd.read_csv('datasets/books/collaborative_book_metadata.csv')\n",
    "call_book = pd.read_csv('datasets/books/collaborative_books_df.csv')\n",
    "user_id = pd.read_csv('datasets/books/user_id_map.csv')"
   ]
  },
  {
   "cell_type": "code",
   "execution_count": 2,
   "metadata": {},
   "outputs": [
    {
     "ename": "NameError",
     "evalue": "name 'call_book' is not defined",
     "output_type": "error",
     "traceback": [
      "\u001b[1;31m---------------------------------------------------------------------------\u001b[0m",
      "\u001b[1;31mNameError\u001b[0m                                 Traceback (most recent call last)",
      "\u001b[1;32mc:\\Users\\iak7\\Documents\\Master of magic _short\\book_reco.ipynb Cell 4\u001b[0m line \u001b[0;36m1\n\u001b[1;32m----> <a href='vscode-notebook-cell:/c%3A/Users/iak7/Documents/Master%20of%20magic%20_short/book_reco.ipynb#W3sZmlsZQ%3D%3D?line=0'>1</a>\u001b[0m call_book \u001b[39m=\u001b[39m call_book\u001b[39m.\u001b[39msort_values(\u001b[39m'\u001b[39m\u001b[39muser_id_mapping\u001b[39m\u001b[39m'\u001b[39m)\n",
      "\u001b[1;31mNameError\u001b[0m: name 'call_book' is not defined"
     ]
    }
   ],
   "source": [
    "call_book = call_book.sort_values('user_id_mapping')"
   ]
  },
  {
   "cell_type": "code",
   "execution_count": 26,
   "metadata": {},
   "outputs": [
    {
     "data": {
      "text/plain": [
       "<bound method Series.unique of 18356         0\n",
       "178192        0\n",
       "59380         0\n",
       "61307         0\n",
       "192251        0\n",
       "          ...  \n",
       "153944    84560\n",
       "156450    84561\n",
       "1816      84562\n",
       "73990     84563\n",
       "116126    84564\n",
       "Name: user_id_mapping, Length: 196296, dtype: int64>"
      ]
     },
     "execution_count": 26,
     "metadata": {},
     "output_type": "execute_result"
    }
   ],
   "source": [
    "((pd.read_csv('datasets/books/collaborative_books_df.csv').sort_values('user_id_mapping').user_id_mapping.unique))"
   ]
  },
  {
   "cell_type": "code",
   "execution_count": 3,
   "metadata": {},
   "outputs": [],
   "source": [
    "max_user_id = 84564"
   ]
  },
  {
   "cell_type": "code",
   "execution_count": 4,
   "metadata": {},
   "outputs": [],
   "source": [
    "call_book_short = pd.read_excel('collaborative_books_short.xlsx')"
   ]
  },
  {
   "cell_type": "code",
   "execution_count": 5,
   "metadata": {},
   "outputs": [],
   "source": [
    "call_book = call_book_short"
   ]
  },
  {
   "cell_type": "code",
   "execution_count": 12,
   "metadata": {},
   "outputs": [
    {
     "data": {
      "text/plain": [
       "1.0"
      ]
     },
     "execution_count": 12,
     "metadata": {},
     "output_type": "execute_result"
    }
   ],
   "source": [
    "ds.cosine([1, 0], [0, 1])"
   ]
  },
  {
   "cell_type": "markdown",
   "metadata": {},
   "source": [
    "https://habr.com/ru/articles/150399/ - коллаборативная фильтрация"
   ]
  },
  {
   "cell_type": "code",
   "execution_count": 6,
   "metadata": {},
   "outputs": [],
   "source": [
    "# Получаем словарь, где по id юзера указаны id прочитанных им книг\n",
    "read_by_user = {}\n",
    "user_id_mapping = set(call_book['user_id_mapping'])\n",
    "for i in user_id_mapping:\n",
    "    temp_df = call_book.loc[call_book['user_id_mapping'] == i]\n",
    "    read_by_user.update({i: sorted(list(temp_df['book_id']))})\n"
   ]
  },
  {
   "cell_type": "code",
   "execution_count": 6,
   "metadata": {},
   "outputs": [
    {
     "data": {
      "text/plain": [
       "3897"
      ]
     },
     "execution_count": 6,
     "metadata": {},
     "output_type": "execute_result"
    }
   ],
   "source": [
    "list_keys = []\n",
    "for key in read_by_user.keys():\n",
    "    if len(read_by_user[key]) > 6:\n",
    "        list_keys.append(key)\n",
    "len(list_keys)"
   ]
  },
  {
   "cell_type": "markdown",
   "metadata": {},
   "source": [
    "## запись в файл, если надо"
   ]
  },
  {
   "cell_type": "code",
   "execution_count": 33,
   "metadata": {},
   "outputs": [],
   "source": [
    "# call_book_short = call_book[call_book['user_id_mapping'] == 0]\n",
    "temp_df = []\n",
    "for i in list_keys:\n",
    "    temp_df.append(call_book[call_book['user_id_mapping'] == i])\n",
    "    # call_book_short = call_book_short.merge(temp, how='inner')"
   ]
  },
  {
   "cell_type": "code",
   "execution_count": 34,
   "metadata": {},
   "outputs": [],
   "source": [
    "call_book_short = pd.concat(temp_df)"
   ]
  },
  {
   "cell_type": "code",
   "execution_count": 36,
   "metadata": {},
   "outputs": [],
   "source": [
    "call_book_short.to_excel('collaborative_books_short.xlsx')"
   ]
  },
  {
   "cell_type": "code",
   "execution_count": 38,
   "metadata": {},
   "outputs": [],
   "source": [
    "with open(\"read_by_user.pickle\", \"wb\") as file:\n",
    "    pickle.dump(read_by_user, file)"
   ]
  },
  {
   "cell_type": "code",
   "execution_count": 29,
   "metadata": {},
   "outputs": [],
   "source": [
    "with open(\"read_by_user.pickle\", \"rb\") as file:\n",
    "    read_by_user = pickle.load(file)"
   ]
  },
  {
   "cell_type": "markdown",
   "metadata": {},
   "source": [
    "Запись в файлы для передачи в плюсы"
   ]
  },
  {
   "cell_type": "code",
   "execution_count": 21,
   "metadata": {},
   "outputs": [],
   "source": [
    "with open(\"read_by_user.txt\", 'w') as file:\n",
    "    for key in read_by_user.keys():\n",
    "        file.write(' '.join(list(map(str, read_by_user[key]))) + '\\n')"
   ]
  },
  {
   "cell_type": "code",
   "execution_count": 22,
   "metadata": {},
   "outputs": [],
   "source": [
    "with open(\"read_by_user_keys.txt\", 'w') as file:\n",
    "    for key in read_by_user.keys():\n",
    "        file.write(str(key) + '\\n')"
   ]
  },
  {
   "cell_type": "markdown",
   "metadata": {},
   "source": [
    "Создаем разреженную матрицу, где все значения идут по порядку. Отсортировано по id_user_mapping, затем по book_id. \n",
    "Значениями матрицы являются оценки пользователя"
   ]
  },
  {
   "cell_type": "code",
   "execution_count": 7,
   "metadata": {},
   "outputs": [],
   "source": [
    "row_indices = list()\n",
    "column_indices = list()\n",
    "for key in read_by_user.keys():\n",
    "    row_indices.extend([key]*len(read_by_user[key]))\n",
    "    column_indices.extend(read_by_user[key])\n",
    "\n",
    "grade = np.array(call_book.sort_values(['user_id_mapping', 'book_id'])['Predicted Rating'])\n",
    "row_indices = np.array(row_indices)\n",
    "column_indices = np.array(column_indices)"
   ]
  },
  {
   "cell_type": "markdown",
   "metadata": {},
   "source": [
    "Строки - user_id_mapping, столбцы - book_id. Значение - Predicted Rating"
   ]
  },
  {
   "cell_type": "code",
   "execution_count": 8,
   "metadata": {},
   "outputs": [],
   "source": [
    "grade_matrix = csr_matrix((grade, (row_indices, column_indices)))"
   ]
  },
  {
   "cell_type": "code",
   "execution_count": 8,
   "metadata": {},
   "outputs": [
    {
     "data": {
      "text/plain": [
       "31700"
      ]
     },
     "execution_count": 8,
     "metadata": {},
     "output_type": "execute_result"
    }
   ],
   "source": [
    "len(grade_matrix.nonzero()[0])"
   ]
  },
  {
   "cell_type": "code",
   "execution_count": 17,
   "metadata": {},
   "outputs": [
    {
     "name": "stderr",
     "output_type": "stream",
     "text": [
      "100%|██████████| 77764/77764 [06:11<00:00, 209.15it/s]\n"
     ]
    }
   ],
   "source": [
    "# len(grade_matrix.nonzero()[0])\n",
    "# собираемся записать в датафрейм только ненулевые столбцы\n",
    "# grade_df = pd.DataFrame()\n",
    "grade_list = []\n",
    "# берем все строки, но удааляем полностью нулевые стоблцы\n",
    "for i in tqdm(range(max(grade_matrix.nonzero()[0]) + 1)):\n",
    "    grade_list.append(grade_matrix.getrow(i).toarray()[0][grade_matrix.nonzero()[1]])"
   ]
  },
  {
   "cell_type": "code",
   "execution_count": 19,
   "metadata": {},
   "outputs": [],
   "source": [
    "with open('grade_list.txt', 'w') as file:\n",
    "    for grade in grade_list:\n",
    "        file.write(str(grade) + '\\n')"
   ]
  },
  {
   "cell_type": "code",
   "execution_count": null,
   "metadata": {},
   "outputs": [],
   "source": [
    "with open('grade_list.txt') as file:\n",
    "    for line in file:\n",
    "        grade_list.append(eval(line))"
   ]
  },
  {
   "cell_type": "code",
   "execution_count": 20,
   "metadata": {},
   "outputs": [
    {
     "data": {
      "text/plain": [
       "77764"
      ]
     },
     "execution_count": 20,
     "metadata": {},
     "output_type": "execute_result"
    }
   ],
   "source": [
    "len(grade_list)"
   ]
  },
  {
   "cell_type": "markdown",
   "metadata": {},
   "source": [
    "Пробуем создать генератор для уменьшения затрат памяти"
   ]
  },
  {
   "cell_type": "code",
   "execution_count": 9,
   "metadata": {},
   "outputs": [],
   "source": [
    "def gennerator_grade_list():\n",
    "    for i in tqdm(range(max_user_id)):\n",
    "        yield grade_matrix.getrow(i).toarray()[0][grade_matrix.nonzero()[1]]"
   ]
  },
  {
   "cell_type": "code",
   "execution_count": 10,
   "metadata": {},
   "outputs": [
    {
     "data": {
      "text/plain": [
       "31700"
      ]
     },
     "execution_count": 10,
     "metadata": {},
     "output_type": "execute_result"
    }
   ],
   "source": [
    "len(grade_list[0])"
   ]
  },
  {
   "cell_type": "code",
   "execution_count": 23,
   "metadata": {},
   "outputs": [],
   "source": [
    "save_npz('grade_matrix_short.npz', grade_matrix)"
   ]
  },
  {
   "cell_type": "code",
   "execution_count": 20,
   "metadata": {},
   "outputs": [],
   "source": [
    "grade_matrix = load_npz('grade_matrix.npz')"
   ]
  },
  {
   "cell_type": "code",
   "execution_count": 8,
   "metadata": {},
   "outputs": [
    {
     "name": "stderr",
     "output_type": "stream",
     "text": [
      "0it [00:00, ?it/s]"
     ]
    },
    {
     "name": "stderr",
     "output_type": "stream",
     "text": [
      "2008497it [00:01, 1394612.42it/s]\n"
     ]
    }
   ],
   "source": [
    "indexes = []\n",
    "with open(\"output_key_index.txt\") as read_file:\n",
    "    for line in tqdm(read_file):\n",
    "        # temp = tuple(map(int, line[1:-2].split(', ')))\n",
    "        temp = line[:-1].replace(',', '').replace('(', '').replace(')', '')\n",
    "        indexes.append(temp)"
   ]
  },
  {
   "cell_type": "markdown",
   "metadata": {},
   "source": [
    "Создаем генератор для индексов"
   ]
  },
  {
   "cell_type": "code",
   "execution_count": 10,
   "metadata": {},
   "outputs": [],
   "source": [
    "def get_index():\n",
    "    with open(\"output_key_index.txt\") as read_file:\n",
    "        for line in tqdm(read_file):\n",
    "            # temp = tuple(map(int, line[1:-2].split(', ')))\n",
    "            inx = line[:-1].replace(',', '').replace('(', '').replace(')', '')\n",
    "            yield inx"
   ]
  },
  {
   "cell_type": "code",
   "execution_count": 14,
   "metadata": {},
   "outputs": [
    {
     "name": "stderr",
     "output_type": "stream",
     "text": [
      "100%|██████████| 2008497/2008497 [00:01<00:00, 1702021.78it/s]\n"
     ]
    }
   ],
   "source": [
    "with open(\"key_index.txt\", 'w') as file:\n",
    "    for line in tqdm(indexes):\n",
    "        file.write(str(line) + '\\n')"
   ]
  },
  {
   "cell_type": "code",
   "execution_count": 20,
   "metadata": {},
   "outputs": [
    {
     "data": {
      "text/plain": [
       "30555489"
      ]
     },
     "execution_count": 20,
     "metadata": {},
     "output_type": "execute_result"
    }
   ],
   "source": [
    "len(grade_matrix.getrow(i).toarray()[0])"
   ]
  },
  {
   "cell_type": "code",
   "execution_count": 36,
   "metadata": {},
   "outputs": [
    {
     "data": {
      "text/plain": [
       "(31700,)"
      ]
     },
     "execution_count": 36,
     "metadata": {},
     "output_type": "execute_result"
    }
   ],
   "source": [
    "grade_matrix.nonzero()[1].shape"
   ]
  },
  {
   "cell_type": "markdown",
   "metadata": {},
   "source": [
    "Рачет косинусной шляпы"
   ]
  },
  {
   "cell_type": "code",
   "execution_count": 24,
   "metadata": {},
   "outputs": [
    {
     "name": "stderr",
     "output_type": "stream",
     "text": [
      "796274it [06:12, 2138.91it/s]\n"
     ]
    }
   ],
   "source": [
    "# cosine_grade = []\n",
    "with open('output_key_index_3000.txt') as file:\n",
    "    with open('cosine_dim.txt', 'w') as write_file:\n",
    "        for line in tqdm(file):\n",
    "            i, j = list(map(int, line.split()))\n",
    "            cosine = (ds.cosine(grade_list[i], grade_list[j]))\n",
    "            write_file.write(str(i) + ' ' + str(j) + ' ' + str(cosine) + '\\n')"
   ]
  },
  {
   "cell_type": "code",
   "execution_count": 35,
   "metadata": {},
   "outputs": [
    {
     "name": "stderr",
     "output_type": "stream",
     "text": [
      "796274it [00:01, 622090.12it/s]\n"
     ]
    }
   ],
   "source": [
    "cosine_list = []\n",
    "with open('cosine_dim.txt') as file:\n",
    "    for line in tqdm(file):\n",
    "        cosine_list.append(line.split())"
   ]
  },
  {
   "cell_type": "code",
   "execution_count": 46,
   "metadata": {},
   "outputs": [],
   "source": [
    "cosine_dim = pd.DataFrame(columns=['x', 'y', 'cosine'], data=(cosine_list))"
   ]
  },
  {
   "cell_type": "code",
   "execution_count": 54,
   "metadata": {},
   "outputs": [
    {
     "data": {
      "text/html": [
       "<div>\n",
       "<style scoped>\n",
       "    .dataframe tbody tr th:only-of-type {\n",
       "        vertical-align: middle;\n",
       "    }\n",
       "\n",
       "    .dataframe tbody tr th {\n",
       "        vertical-align: top;\n",
       "    }\n",
       "\n",
       "    .dataframe thead th {\n",
       "        text-align: right;\n",
       "    }\n",
       "</style>\n",
       "<table border=\"1\" class=\"dataframe\">\n",
       "  <thead>\n",
       "    <tr style=\"text-align: right;\">\n",
       "      <th></th>\n",
       "      <th>x</th>\n",
       "      <th>y</th>\n",
       "      <th>cosine</th>\n",
       "    </tr>\n",
       "  </thead>\n",
       "  <tbody>\n",
       "    <tr>\n",
       "      <th>785189</th>\n",
       "      <td>15426</td>\n",
       "      <td>16245</td>\n",
       "      <td>0.9957953740295578</td>\n",
       "    </tr>\n",
       "    <tr>\n",
       "      <th>193731</th>\n",
       "      <td>25581</td>\n",
       "      <td>19022</td>\n",
       "      <td>0.9953850082498844</td>\n",
       "    </tr>\n",
       "    <tr>\n",
       "      <th>388366</th>\n",
       "      <td>26769</td>\n",
       "      <td>52630</td>\n",
       "      <td>0.9950873408474369</td>\n",
       "    </tr>\n",
       "    <tr>\n",
       "      <th>388559</th>\n",
       "      <td>26769</td>\n",
       "      <td>15619</td>\n",
       "      <td>0.9949771370680286</td>\n",
       "    </tr>\n",
       "    <tr>\n",
       "      <th>315348</th>\n",
       "      <td>9887</td>\n",
       "      <td>19239</td>\n",
       "      <td>0.9949444673104856</td>\n",
       "    </tr>\n",
       "    <tr>\n",
       "      <th>1574</th>\n",
       "      <td>16393</td>\n",
       "      <td>25152</td>\n",
       "      <td>0.9947803337081287</td>\n",
       "    </tr>\n",
       "    <tr>\n",
       "      <th>112902</th>\n",
       "      <td>606</td>\n",
       "      <td>30329</td>\n",
       "      <td>0.9945473897420658</td>\n",
       "    </tr>\n",
       "    <tr>\n",
       "      <th>732719</th>\n",
       "      <td>30329</td>\n",
       "      <td>23517</td>\n",
       "      <td>0.9945059991361832</td>\n",
       "    </tr>\n",
       "    <tr>\n",
       "      <th>323134</th>\n",
       "      <td>26314</td>\n",
       "      <td>26769</td>\n",
       "      <td>0.9944611466610263</td>\n",
       "    </tr>\n",
       "    <tr>\n",
       "      <th>34619</th>\n",
       "      <td>16547</td>\n",
       "      <td>2775</td>\n",
       "      <td>0.9944609955589867</td>\n",
       "    </tr>\n",
       "    <tr>\n",
       "      <th>334377</th>\n",
       "      <td>26373</td>\n",
       "      <td>60579</td>\n",
       "      <td>0.9944317280442384</td>\n",
       "    </tr>\n",
       "    <tr>\n",
       "      <th>480767</th>\n",
       "      <td>19239</td>\n",
       "      <td>3716</td>\n",
       "      <td>0.9943839244498356</td>\n",
       "    </tr>\n",
       "    <tr>\n",
       "      <th>254199</th>\n",
       "      <td>9550</td>\n",
       "      <td>29749</td>\n",
       "      <td>0.9943683577237895</td>\n",
       "    </tr>\n",
       "    <tr>\n",
       "      <th>337079</th>\n",
       "      <td>67343</td>\n",
       "      <td>42776</td>\n",
       "      <td>0.9941068544008047</td>\n",
       "    </tr>\n",
       "    <tr>\n",
       "      <th>637632</th>\n",
       "      <td>12585</td>\n",
       "      <td>30329</td>\n",
       "      <td>0.9941054216243297</td>\n",
       "    </tr>\n",
       "  </tbody>\n",
       "</table>\n",
       "</div>"
      ],
      "text/plain": [
       "            x      y              cosine\n",
       "785189  15426  16245  0.9957953740295578\n",
       "193731  25581  19022  0.9953850082498844\n",
       "388366  26769  52630  0.9950873408474369\n",
       "388559  26769  15619  0.9949771370680286\n",
       "315348   9887  19239  0.9949444673104856\n",
       "1574    16393  25152  0.9947803337081287\n",
       "112902    606  30329  0.9945473897420658\n",
       "732719  30329  23517  0.9945059991361832\n",
       "323134  26314  26769  0.9944611466610263\n",
       "34619   16547   2775  0.9944609955589867\n",
       "334377  26373  60579  0.9944317280442384\n",
       "480767  19239   3716  0.9943839244498356\n",
       "254199   9550  29749  0.9943683577237895\n",
       "337079  67343  42776  0.9941068544008047\n",
       "637632  12585  30329  0.9941054216243297"
      ]
     },
     "execution_count": 54,
     "metadata": {},
     "output_type": "execute_result"
    }
   ],
   "source": [
    "cosine_dim.sort_values('cosine', ascending=False).head(15)"
   ]
  },
  {
   "cell_type": "code",
   "execution_count": 15,
   "metadata": {},
   "outputs": [
    {
     "name": "stdout",
     "output_type": "stream",
     "text": [
      "8225 77763\n"
     ]
    }
   ],
   "source": [
    "print(i, j)"
   ]
  },
  {
   "cell_type": "code",
   "execution_count": 16,
   "metadata": {},
   "outputs": [
    {
     "data": {
      "text/plain": [
       "77763"
      ]
     },
     "execution_count": 16,
     "metadata": {},
     "output_type": "execute_result"
    }
   ],
   "source": [
    "len(grade_list)"
   ]
  }
 ],
 "metadata": {
  "kernelspec": {
   "display_name": "base",
   "language": "python",
   "name": "python3"
  },
  "language_info": {
   "codemirror_mode": {
    "name": "ipython",
    "version": 3
   },
   "file_extension": ".py",
   "mimetype": "text/x-python",
   "name": "python",
   "nbconvert_exporter": "python",
   "pygments_lexer": "ipython3",
   "version": "3.11.5"
  },
  "orig_nbformat": 4
 },
 "nbformat": 4,
 "nbformat_minor": 2
}
